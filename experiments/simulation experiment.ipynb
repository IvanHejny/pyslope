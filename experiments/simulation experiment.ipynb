{
 "cells": [
  {
   "cell_type": "markdown",
   "id": "079e7678",
   "metadata": {},
   "source": [
    "#### Simulation of asymptotic distribution"
   ]
  },
  {
   "cell_type": "code",
   "execution_count": 264,
   "id": "363f5eee",
   "metadata": {},
   "outputs": [],
   "source": [
    "import numpy as np\n",
    "from slope.solvers import pgd_slope\n",
    "from slope.utils import lambda_sequence\n",
    "from slope.solvers import pgd_slope_b_0_FISTA\n",
    "import numpy.random as npr\n",
    "import scipy.linalg as ln"
   ]
  },
  {
   "cell_type": "code",
   "execution_count": 265,
   "id": "8883c361",
   "metadata": {},
   "outputs": [],
   "source": [
    "#parameters \n",
    "n = 200#number of samples\n",
    "C = ln.toeplitz([2.,1.,0.,0.])\n",
    "C_lambda = np.linalg.eig(C) \n",
    "b0 = np.array([2,-1,1,0])\n",
    "d = C.shape[1]\n",
    "sigma=1.\n",
    "lambdas = np.array([6,4,3,0.5])"
   ]
  },
  {
   "cell_type": "code",
   "execution_count": 266,
   "id": "0c8b301a",
   "metadata": {},
   "outputs": [
    {
     "name": "stdout",
     "output_type": "stream",
     "text": [
      "[-23.60889798  14.14213562 -14.14213562   0.        ]\n",
      "[-40.4243618   52.42527672 -48.04956699  21.5853695 ]\n"
     ]
    }
   ],
   "source": [
    "X = npr.multivariate_normal(np.zeros(d),C,size=n)\n",
    "eps = npr.normal(0,sigma,size=n)\n",
    "Y = X@b0 + eps\n",
    "from slope.solvers import pgd_slope\n",
    "\n",
    "beta_hat= pgd_slope(X, Y, lambdas/np.sqrt(n), fit_intercept=False, gap_tol=1e-5, max_it=1000, verbose=False,)['beta'] \n",
    "print( np.sqrt(n)*(beta_hat-b0))\n",
    "W = (X.T @ eps) /np.sqrt(n)\n",
    "stepsize_t = 1./np.max(C_lambda[0])\n",
    "print(pgd_slope_b_0_FISTA(C, W, b0, lambdas, stepsize_t, 500))"
   ]
  },
  {
   "cell_type": "code",
   "execution_count": 254,
   "id": "9dbaaa3d",
   "metadata": {},
   "outputs": [
    {
     "name": "stdout",
     "output_type": "stream",
     "text": [
      "[3.61803399 2.61803399 0.38196601 1.38196601]\n"
     ]
    }
   ],
   "source": []
  },
  {
   "cell_type": "code",
   "execution_count": null,
   "id": "7d20b135",
   "metadata": {},
   "outputs": [],
   "source": []
  }
 ],
 "metadata": {
  "kernelspec": {
   "display_name": "Python 3 (ipykernel)",
   "language": "python",
   "name": "python3"
  },
  "language_info": {
   "codemirror_mode": {
    "name": "ipython",
    "version": 3
   },
   "file_extension": ".py",
   "mimetype": "text/x-python",
   "name": "python",
   "nbconvert_exporter": "python",
   "pygments_lexer": "ipython3",
   "version": "3.9.13"
  }
 },
 "nbformat": 4,
 "nbformat_minor": 5
}
